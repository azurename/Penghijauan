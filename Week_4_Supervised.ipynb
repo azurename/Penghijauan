{
  "nbformat": 4,
  "nbformat_minor": 0,
  "metadata": {
    "colab": {
      "provenance": [],
      "include_colab_link": true
    },
    "kernelspec": {
      "name": "python3",
      "display_name": "Python 3"
    },
    "language_info": {
      "name": "python"
    }
  },
  "cells": [
    {
      "cell_type": "markdown",
      "metadata": {
        "id": "view-in-github",
        "colab_type": "text"
      },
      "source": [
        "<a href=\"https://colab.research.google.com/github/azurename/Penghijauan/blob/main/Week_4_Supervised.ipynb\" target=\"_parent\"><img src=\"https://colab.research.google.com/assets/colab-badge.svg\" alt=\"Open In Colab\"/></a>"
      ]
    },
    {
      "cell_type": "code",
      "execution_count": null,
      "metadata": {
        "id": "1qWLWBv7dOi2"
      },
      "outputs": [],
      "source": [
        "import pandas as pd\n",
        "import numpy as np"
      ]
    },
    {
      "cell_type": "markdown",
      "source": [
        "## EDA"
      ],
      "metadata": {
        "id": "7BaPigtGhKIn"
      }
    },
    {
      "cell_type": "code",
      "source": [],
      "metadata": {
        "id": "nCUyrP2uhLce"
      },
      "execution_count": null,
      "outputs": []
    },
    {
      "cell_type": "markdown",
      "source": [
        "## PreProcessing"
      ],
      "metadata": {
        "id": "duLtVlxMhL4x"
      }
    },
    {
      "cell_type": "markdown",
      "source": [
        "## Prediksi"
      ],
      "metadata": {
        "id": "DZ3296XJhRqL"
      }
    },
    {
      "cell_type": "code",
      "source": [],
      "metadata": {
        "id": "erAEOiV9hTal"
      },
      "execution_count": null,
      "outputs": []
    }
  ]
}